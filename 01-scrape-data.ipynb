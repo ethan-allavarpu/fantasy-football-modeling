{
 "cells": [
  {
   "cell_type": "code",
   "execution_count": 1,
   "metadata": {},
   "outputs": [
    {
     "name": "stdout",
     "output_type": "stream",
     "text": [
      "Note: you may need to restart the kernel to use updated packages.\n"
     ]
    }
   ],
   "source": [
    "%pip install pandas selenium -q\n",
    "import pandas as pd\n",
    "from selenium import webdriver\n",
    "import time"
   ]
  },
  {
   "cell_type": "code",
   "execution_count": 2,
   "metadata": {},
   "outputs": [],
   "source": [
    "def scrape_ff_yr(years: list, directory: str = ''):\n",
    "    '''\n",
    "    scrape_ff_yr(years: list, directory: str = '')\n",
    "\n",
    "    Scrape fantasy football statistics from Pro Football Reference for provided years.\n",
    "    Provided the outputs as CSV files and as a list of data frames for each year.\n",
    "\n",
    "    Parameters\n",
    "    ----------\n",
    "    years: list\n",
    "        The fantasy football years for which to gather data from Pro Football Reference\n",
    "    directory: str, default = ''\n",
    "        The directory used to write CSV files. Defaults to parent directory ('')\n",
    "\n",
    "    Returns\n",
    "    -------\n",
    "    data_tables: list\n",
    "        A list of the tabular data tables from Pro Football Reference for the given years.\n",
    "        One element for each year (in the provided order)\n",
    "\n",
    "    Notes\n",
    "    -----\n",
    "    This function uses the Firefox webdriver from Selenium. To implement this, geckodriver must be installed and in your bin\n",
    "    This function also returns CSV files for each year in the given directory\n",
    "    '''\n",
    "\n",
    "    data_tables = []\n",
    "    driver = webdriver.Firefox()\n",
    "    for year in years:\n",
    "        url_path = 'https://www.pro-football-reference.com/years/' + str(year) + '/fantasy.htm'\n",
    "        driver.get(url_path)\n",
    "        time.sleep(0.5)\n",
    "        table_html = driver.find_element_by_xpath('//*[@id=\"fantasy\"]').get_attribute('outerHTML')\n",
    "        data_table = pd.read_html(table_html)[0]\n",
    "        file_name = directory + 'ff_' + str(year) + '.csv'\n",
    "        data_table.to_csv(file_name, index = False)\n",
    "        data_tables.append(data_table)\n",
    "        time.sleep(0.5)\n",
    "    driver.quit()\n",
    "    return data_tables"
   ]
  },
  {
   "cell_type": "code",
   "execution_count": 3,
   "metadata": {},
   "outputs": [],
   "source": [
    "ff_years = [*range(2007, 2022)] # Past 15 years\n",
    "ff_data = scrape_ff_yr(years = ff_years, directory = 'data/raw/')"
   ]
  }
 ],
 "metadata": {
  "interpreter": {
   "hash": "7ade875c08acbb0f92ecb432f3b6d0a7c8fa8ca0e6bb5f838537b479d5820799"
  },
  "kernelspec": {
   "display_name": "Python 3.9.12 ('base')",
   "language": "python",
   "name": "python3"
  },
  "language_info": {
   "codemirror_mode": {
    "name": "ipython",
    "version": 3
   },
   "file_extension": ".py",
   "mimetype": "text/x-python",
   "name": "python",
   "nbconvert_exporter": "python",
   "pygments_lexer": "ipython3",
   "version": "3.9.12"
  },
  "orig_nbformat": 4
 },
 "nbformat": 4,
 "nbformat_minor": 2
}
