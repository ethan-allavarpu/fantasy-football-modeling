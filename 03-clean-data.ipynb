{
 "cells": [
  {
   "cell_type": "code",
   "execution_count": 1,
   "metadata": {},
   "outputs": [
    {
     "name": "stdout",
     "output_type": "stream",
     "text": [
      "Note: you may need to restart the kernel to use updated packages.\n"
     ]
    }
   ],
   "source": [
    "%pip install numpy pandas regex -q\n",
    "import numpy as np\n",
    "import os\n",
    "import pandas as pd\n",
    "import re"
   ]
  },
  {
   "cell_type": "code",
   "execution_count": 2,
   "metadata": {},
   "outputs": [],
   "source": [
    "ff_year_files = ['data/processed/' + file for file in os.listdir('data/processed/') if re.search('\\\\.csv$', file) is not None]\n",
    "ff_year_files.sort() # Order files by year\n",
    "ff_year_dfs = [pd.read_csv(file_path, ) for file_path in ff_year_files]"
   ]
  },
  {
   "cell_type": "code",
   "execution_count": 3,
   "metadata": {},
   "outputs": [],
   "source": [
    "# Add response variable\n",
    "for yr in range(len(ff_year_dfs) - 1):\n",
    "    response = ff_year_dfs[yr + 1][['player', 'fantasy_ppr']].rename(columns = {'fantasy_ppr': 'NEXT_YR_PPR'}).set_index('player')\n",
    "    ff_year_dfs[yr] = ff_year_dfs[yr].set_index('player').join(other = response, on = 'player', how = 'inner').reset_index()"
   ]
  },
  {
   "cell_type": "code",
   "execution_count": 4,
   "metadata": {},
   "outputs": [
    {
     "data": {
      "text/plain": [
       "0      4806.0\n",
       "1        17.0\n",
       "2         0.0\n",
       "3         0.0\n",
       "4         0.0\n",
       "        ...  \n",
       "444     136.0\n",
       "445       0.0\n",
       "446       0.0\n",
       "447       0.0\n",
       "448       0.0\n",
       "Length: 449, dtype: float64"
      ]
     },
     "execution_count": 4,
     "metadata": {},
     "output_type": "execute_result"
    }
   ],
   "source": [
    "ff_year_dfs[0].passing_yds / np.sqrt(ff_year_dfs[0].games_g / 16)"
   ]
  }
 ],
 "metadata": {
  "interpreter": {
   "hash": "7ade875c08acbb0f92ecb432f3b6d0a7c8fa8ca0e6bb5f838537b479d5820799"
  },
  "kernelspec": {
   "display_name": "Python 3.9.12 ('base')",
   "language": "python",
   "name": "python3"
  },
  "language_info": {
   "codemirror_mode": {
    "name": "ipython",
    "version": 3
   },
   "file_extension": ".py",
   "mimetype": "text/x-python",
   "name": "python",
   "nbconvert_exporter": "python",
   "pygments_lexer": "ipython3",
   "version": "3.9.12"
  },
  "orig_nbformat": 4
 },
 "nbformat": 4,
 "nbformat_minor": 2
}
