{
 "cells": [
  {
   "cell_type": "code",
   "execution_count": 1,
   "metadata": {},
   "outputs": [
    {
     "name": "stdout",
     "output_type": "stream",
     "text": [
      "Note: you may need to restart the kernel to use updated packages.\n"
     ]
    }
   ],
   "source": [
    "%pip install numpy pandas regex -q\n",
    "import numpy as np\n",
    "import os\n",
    "import pandas as pd\n",
    "import re"
   ]
  },
  {
   "cell_type": "code",
   "execution_count": 2,
   "metadata": {},
   "outputs": [],
   "source": [
    "ff_year_files = ['data/processed/' + file for file in os.listdir('data/processed/') if re.search('\\\\.csv$', file) is not None]\n",
    "ff_year_files.sort() # Order files by year\n",
    "ff_year_dfs = [pd.read_csv(file_path) for file_path in ff_year_files]"
   ]
  },
  {
   "cell_type": "code",
   "execution_count": 3,
   "metadata": {},
   "outputs": [],
   "source": [
    "# Add response variable\n",
    "for yr in range(len(ff_year_dfs) - 1):\n",
    "    response = ff_year_dfs[yr + 1][['player', 'fantasy_ppr']].rename(columns = {'fantasy_ppr': 'NEXT_YR_PPR'}).set_index('player')\n",
    "    ff_year_dfs[yr] = ff_year_dfs[yr].set_index('player').join(other = response, on = 'player', how = 'inner').reset_index()"
   ]
  }
 ],
 "metadata": {
  "kernelspec": {
   "display_name": "Python 3.10.4 64-bit",
   "language": "python",
   "name": "python3"
  },
  "language_info": {
   "codemirror_mode": {
    "name": "ipython",
    "version": 3
   },
   "file_extension": ".py",
   "mimetype": "text/x-python",
   "name": "python",
   "nbconvert_exporter": "python",
   "pygments_lexer": "ipython3",
   "version": "3.10.6"
  },
  "orig_nbformat": 4,
  "vscode": {
   "interpreter": {
    "hash": "aee8b7b246df8f9039afb4144a1f6fd8d2ca17a180786b69acc140d282b71a49"
   }
  }
 },
 "nbformat": 4,
 "nbformat_minor": 2
}
