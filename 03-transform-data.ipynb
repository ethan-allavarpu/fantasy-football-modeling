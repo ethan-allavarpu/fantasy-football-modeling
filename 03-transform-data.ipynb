{
 "cells": [
  {
   "cell_type": "code",
   "execution_count": 3,
   "metadata": {},
   "outputs": [],
   "source": [
    "import os\n",
    "import pandas as pd\n",
    "import re"
   ]
  },
  {
   "cell_type": "code",
   "execution_count": 2,
   "metadata": {},
   "outputs": [],
   "source": [
    "ff_year_files = ['data/processed/' + file_name for file_name in os.listdir('data/processed/') if re.search('\\\\.csv$', file_name) is not None]\n",
    "ff_year_files.sort() # Order files by year\n",
    "ff_year_dfs = [pd.read_csv(file_path) for file_path in ff_year_files]"
   ]
  },
  {
   "cell_type": "code",
   "execution_count": null,
   "metadata": {},
   "outputs": [],
   "source": [
    "# Weight performance over the past five years"
   ]
  }
 ],
 "metadata": {
  "interpreter": {
   "hash": "7ade875c08acbb0f92ecb432f3b6d0a7c8fa8ca0e6bb5f838537b479d5820799"
  },
  "kernelspec": {
   "display_name": "Python 3.9.12 ('base')",
   "language": "python",
   "name": "python3"
  },
  "language_info": {
   "codemirror_mode": {
    "name": "ipython",
    "version": 3
   },
   "file_extension": ".py",
   "mimetype": "text/x-python",
   "name": "python",
   "nbconvert_exporter": "python",
   "pygments_lexer": "ipython3",
   "version": "3.9.12"
  },
  "orig_nbformat": 4
 },
 "nbformat": 4,
 "nbformat_minor": 2
}
