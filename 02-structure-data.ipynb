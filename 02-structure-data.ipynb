{
 "cells": [
  {
   "cell_type": "code",
   "execution_count": 1,
   "metadata": {},
   "outputs": [
    {
     "name": "stdout",
     "output_type": "stream",
     "text": [
      "Note: you may need to restart the kernel to use updated packages.\n"
     ]
    }
   ],
   "source": [
    "%pip install pandas regex -q\n",
    "import os\n",
    "import pandas as pd\n",
    "import re"
   ]
  },
  {
   "cell_type": "code",
   "execution_count": 2,
   "metadata": {},
   "outputs": [],
   "source": [
    "def clean_data(file_path: str, directory: str = ''):\n",
    "    '''\n",
    "    clean_data(file_path: str)\n",
    "\n",
    "    Clean the data frame to fix column names and types\n",
    "\n",
    "    Parameters\n",
    "    ----------\n",
    "    file_path: str\n",
    "        Path to the raw dataframe scraped from Pro Football Reference\n",
    "    directory: str, optional\n",
    "        Directory to write output CSV files\n",
    "\n",
    "    Returns\n",
    "    -------\n",
    "    ff_year: DataFrame\n",
    "        Dataframe with cleaned column names and coerced types\n",
    "\n",
    "    Notes\n",
    "    -----\n",
    "    Also outputs processed CSV files into specified directory\n",
    "    '''\n",
    "    ff_year = pd.read_csv(file_path)\n",
    "    def fix_feature_name(prefix: str, name: str):\n",
    "        '''\n",
    "        fix_feature_name(prefix: str, name: str)\n",
    "\n",
    "        Adjust column names to be more descriptive (collapse prefix and name into one)\n",
    "\n",
    "        Parameters\n",
    "        ----------\n",
    "        prefix: str\n",
    "            The first part of the column name, with periods and 'Unnamed'\n",
    "\n",
    "        name: str\n",
    "            The second part of the column name\n",
    "\n",
    "        Returns\n",
    "        -------\n",
    "        str\n",
    "            String of the fixed column name, with prefix and name separated by '_'\n",
    "        '''\n",
    "        tmp_prefix = re.split('\\\\.', prefix)[0]\n",
    "        fixed_prefix = [tmp_prefix.lower() + '_' if re.search('Unnamed', tmp_prefix) is None else ''][0]\n",
    "        return fixed_prefix + name.lower()\n",
    "    col_names = ff_year.iloc[0, :].reset_index()\n",
    "    col_names.columns = ['prefix', 'name']\n",
    "    fixed_names = [fix_feature_name(col_prefix, col_name) for col_prefix, col_name in zip(col_names.prefix, col_names.name)]\n",
    "    \n",
    "    # Keep original column names\n",
    "    original_names = ff_year.iloc[0, :].reset_index(drop = True)\n",
    "    # Adjust column names, remove extraneous rows\n",
    "    ff_year.columns = fixed_names\n",
    "    ff_year = ff_year[ff_year.rk != original_names[0]].reset_index(drop = True)\n",
    "    # Remove extraneous information from the player column\n",
    "    ff_year.player = [re.split('[+*^]+$', player)[0] for player in ff_year.player]\n",
    "\n",
    "    # Coerce numeric columns to float, int\n",
    "    numeric_columns = ff_year.drop(columns = ['player', 'tm', 'fantpos']).columns\n",
    "    for col in numeric_columns:\n",
    "        ff_year[col] = pd.to_numeric(ff_year[col])\n",
    "    # Coerce categorical columns to factors\n",
    "    factor_columns = ['tm', 'fantpos']\n",
    "    for col in factor_columns:\n",
    "        ff_year[col] = ff_year[col].astype('category')\n",
    "    # NA values treated as 0\n",
    "    ff_year.loc[:, 'games_g':'fantasy_vbd'] = ff_year.loc[:, 'games_g':'fantasy_vbd'].fillna(0)\n",
    "\n",
    "    file_stub = re.findall('(?<=\\\\/)[\\w]+(?=\\\\.csv)', file_path)[0]\n",
    "    file_name = directory + file_stub + '_cleaned.csv'\n",
    "    ff_year.to_csv(file_name, index = False)\n",
    "    return ff_year"
   ]
  },
  {
   "cell_type": "code",
   "execution_count": 3,
   "metadata": {},
   "outputs": [],
   "source": [
    "ff_year_files = ['data/raw/' + file_name for file_name in os.listdir('data/raw/') if re.search('\\\\.csv$', file_name) is not None]\n",
    "ff_data_cleaned = [clean_data(file_path = file, directory = 'data/processed/') for file in ff_year_files]"
   ]
  }
 ],
 "metadata": {
  "interpreter": {
   "hash": "7ade875c08acbb0f92ecb432f3b6d0a7c8fa8ca0e6bb5f838537b479d5820799"
  },
  "kernelspec": {
   "display_name": "Python 3.9.12 ('base')",
   "language": "python",
   "name": "python3"
  },
  "language_info": {
   "codemirror_mode": {
    "name": "ipython",
    "version": 3
   },
   "file_extension": ".py",
   "mimetype": "text/x-python",
   "name": "python",
   "nbconvert_exporter": "python",
   "pygments_lexer": "ipython3",
   "version": "3.9.12"
  },
  "orig_nbformat": 4
 },
 "nbformat": 4,
 "nbformat_minor": 2
}
